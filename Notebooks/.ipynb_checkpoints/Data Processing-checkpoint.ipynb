{
 "cells": [
  {
   "cell_type": "code",
   "execution_count": 113,
   "metadata": {},
   "outputs": [],
   "source": [
    "import pandas as pd\n",
    "import numpy as np\n",
    "\n",
    "pd.set_option('display.max_columns', None)"
   ]
  },
  {
   "cell_type": "code",
   "execution_count": 114,
   "metadata": {},
   "outputs": [],
   "source": [
    "train = pd.read_csv('../Data/train.csv')\n",
    "test = pd.read_csv('../Data/test.csv')\n",
    "\n",
    "train = train.drop(columns=['ID', 'Accounts Delinquent'])\n",
    "test = test.drop(columns=['ID', 'Accounts Delinquent', 'Loan Status'])"
   ]
  },
  {
   "cell_type": "code",
   "execution_count": 115,
   "metadata": {},
   "outputs": [],
   "source": [
    "cat_cols = [\n",
    "    'Batch Enrolled',\n",
    "    'Employment Duration',\n",
    "    'Verification Status',\n",
    "    'Payment Plan',\n",
    "    'Loan Title',\n",
    "    'Initial List Status',\n",
    "    'Application Type',\n",
    "    'Term',\n",
    "    'Collection 12 months Medical'\n",
    "]\n",
    "\n",
    "num_cols = [\n",
    "    'Loan Amount',\n",
    "    'Funded Amount',\n",
    "    'Funded Amount Investor',\n",
    "    'Term',\n",
    "    'Interest Rate',\n",
    "    'Home Ownership',\n",
    "    'Debit to Income',\n",
    "    'Delinquency - two years',\n",
    "    'Inquires - six months',\n",
    "    'Open Account',\n",
    "    'Public Record',\n",
    "    'Revolving Balance',\n",
    "    'Revolving Utilities',\n",
    "    'Total Accounts',\n",
    "    'Total Received Interest',\n",
    "    'Total Received Late Fee',\n",
    "    'Recoveries',\n",
    "    'Collection Recovery Fee',\n",
    "    'Last week Pay',\n",
    "    'Total Collection Amount',\n",
    "    'Total Current Balance',\n",
    "    'Total Revolving Credit Limit',\n",
    "    'Grade',\n",
    "    'Sub Grade'\n",
    "]\n",
    "\n",
    "\n",
    "cube_root = [\n",
    "    'Home Ownership',\n",
    "    'Revolving Balance',\n",
    "    'Total Current Balance',\n",
    "    'Total Received Interest',\n",
    "    'Interest Rate',\n",
    "    'Total Revolving Credit Limit',\n",
    "    'Inquires - six months',\n",
    "    'Public Record',\n",
    "    'Last week Pay'\n",
    "]\n",
    "\n",
    "log = [\n",
    "    'Total Collection Amount',\n",
    "    'Total Received Late Fee',\n",
    "    'Collection Recovery Fee',\n",
    "    'Recoveries',\n",
    "    'Total Accounts'\n",
    "]\n",
    "\n",
    "root = [\n",
    "    'Open Account',\n",
    "    'Funded Amount Investor',\n",
    "    'Delinquency - two years'\n",
    "]\n",
    "\n",
    "\n",
    "normal = [\n",
    "    'Funded Amount',\n",
    "    'Loan Amount',\n",
    "    'Revolving Utilities',\n",
    "    'Debit to Income'\n",
    "]\n",
    "\n",
    "ord_cols = ['Grade', 'Sub Grade']"
   ]
  },
  {
   "cell_type": "code",
   "execution_count": 96,
   "metadata": {},
   "outputs": [],
   "source": [
    "train[cube_root] = np.cbrt(train[cube_root])\n",
    "test[cube_root] = np.cbrt(test[cube_root])\n",
    "\n",
    "train[log] = np.log(train[log] + 1)\n",
    "test[log] = np.log(test[log] + 1)\n",
    "\n",
    "train[root] = np.sqrt(train[root])\n",
    "test[root] = np.sqrt(test[root])"
   ]
  },
  {
   "cell_type": "code",
   "execution_count": 97,
   "metadata": {},
   "outputs": [],
   "source": [
    "train['Collection 12 months Medical'] = train['Collection 12 months Medical'].map({\n",
    "    0: 'No',\n",
    "    1: 'Yes'\n",
    "})\n",
    "\n",
    "test['Collection 12 months Medical'] = test['Collection 12 months Medical'].map({\n",
    "    0: 'No',\n",
    "    1: 'Yes'\n",
    "})"
   ]
  },
  {
   "cell_type": "code",
   "execution_count": 98,
   "metadata": {},
   "outputs": [],
   "source": [
    "labels = np.asarray(train['Loan Status'])\n",
    "\n",
    "train = train.drop(columns=['Loan Status'])"
   ]
  },
  {
   "cell_type": "code",
   "execution_count": null,
   "metadata": {},
   "outputs": [],
   "source": []
  },
  {
   "cell_type": "code",
   "execution_count": 99,
   "metadata": {},
   "outputs": [],
   "source": [
    "from sklearn.preprocessing import OrdinalEncoder, OneHotEncoder, StandardScaler\n",
    "from sklearn.compose import ColumnTransformer\n",
    "\n",
    "enc = OrdinalEncoder()\n",
    "\n",
    "train[ord_cols] = enc.fit_transform(train[ord_cols])\n",
    "test[ord_cols] = enc.transform(test[ord_cols])\n",
    "\n",
    "ct = ColumnTransformer([\n",
    "    ('num', StandardScaler(), num_cols),\n",
    "    ('cat', OneHotEncoder(handle_unknown='ignore'), cat_cols),\n",
    "], remainder='passthrough', sparse_threshold=0)\n",
    "\n",
    "trans_train = ct.fit_transform(train)\n",
    "trans_test = ct.transform(test)"
   ]
  },
  {
   "cell_type": "code",
   "execution_count": 100,
   "metadata": {},
   "outputs": [
    {
     "data": {
      "text/plain": [
       "(67463, 191)"
      ]
     },
     "execution_count": 100,
     "metadata": {},
     "output_type": "execute_result"
    }
   ],
   "source": [
    "trans_train.shape"
   ]
  },
  {
   "cell_type": "code",
   "execution_count": 101,
   "metadata": {},
   "outputs": [
    {
     "data": {
      "text/plain": [
       "(28913, 191)"
      ]
     },
     "execution_count": 101,
     "metadata": {},
     "output_type": "execute_result"
    }
   ],
   "source": [
    "trans_test.shape"
   ]
  },
  {
   "cell_type": "code",
   "execution_count": 106,
   "metadata": {},
   "outputs": [],
   "source": [
    "ones = np.where(labels==1)\n",
    "zeroes = np.where(labels==0)\n",
    "zeroes = np.random.choice(zeroes[0], len(ones[0]))\n",
    "\n",
    "\n",
    "labels = np.concatenate([labels[ones], labels[zeroes]])\n",
    "trans_train = np.concatenate([trans_train[ones], trans_train[zeroes]])\n",
    "\n",
    "shuffler = np.random.permutation(len(trans_train))\n",
    "labels = labels[shuffler]\n",
    "trans_train = trans_train[shuffler]"
   ]
  },
  {
   "cell_type": "code",
   "execution_count": 108,
   "metadata": {},
   "outputs": [
    {
     "data": {
      "text/plain": [
       "array([[ 4.19118008e-01, -1.26925348e+00,  4.62010829e-01, ...,\n",
       "         1.00000000e+00,  0.00000000e+00,  7.25611500e+06],\n",
       "       [ 1.06839232e+00,  1.75857294e-01, -9.99550744e-01, ...,\n",
       "         1.00000000e+00,  0.00000000e+00,  8.29500400e+06],\n",
       "       [ 1.24992144e+00,  1.95148241e+00, -2.34433915e-01, ...,\n",
       "         1.00000000e+00,  0.00000000e+00,  3.76578200e+07],\n",
       "       ...,\n",
       "       [ 1.80275467e+00, -1.10804492e+00, -2.41408213e-01, ...,\n",
       "         1.00000000e+00,  0.00000000e+00,  1.67124560e+07],\n",
       "       [ 7.38078645e-01, -1.22570018e+00, -3.50924069e-01, ...,\n",
       "         1.00000000e+00,  0.00000000e+00,  7.86650600e+06],\n",
       "       [ 2.12851219e-01, -4.86030185e-01,  5.00868503e-01, ...,\n",
       "         1.00000000e+00,  0.00000000e+00,  5.71856960e+07]])"
      ]
     },
     "execution_count": 108,
     "metadata": {},
     "output_type": "execute_result"
    }
   ],
   "source": []
  },
  {
   "cell_type": "code",
   "execution_count": 109,
   "metadata": {},
   "outputs": [
    {
     "data": {
      "text/plain": [
       "ColumnTransformer(remainder='passthrough', sparse_threshold=0,\n",
       "                  transformers=[('num', StandardScaler(),\n",
       "                                 ['Loan Amount', 'Funded Amount',\n",
       "                                  'Funded Amount Investor', 'Term',\n",
       "                                  'Interest Rate', 'Home Ownership',\n",
       "                                  'Debit to Income', 'Delinquency - two years',\n",
       "                                  'Inquires - six months', 'Open Account',\n",
       "                                  'Public Record', 'Revolving Balance',\n",
       "                                  'Revolving Utilities', 'Total Accounts',\n",
       "                                  'Total Received In...\n",
       "                                  'Total Received Late Fee', 'Recoveries',\n",
       "                                  'Collection Recovery Fee', 'Last week Pay',\n",
       "                                  'Total Collection Amount',\n",
       "                                  'Total Current Balance',\n",
       "                                  'Total Revolving Credit Limit', 'Grade',\n",
       "                                  'Sub Grade']),\n",
       "                                ('cat', OneHotEncoder(handle_unknown='ignore'),\n",
       "                                 ['Batch Enrolled', 'Employment Duration',\n",
       "                                  'Verification Status', 'Payment Plan',\n",
       "                                  'Loan Title', 'Initial List Status',\n",
       "                                  'Application Type', 'Term',\n",
       "                                  'Collection 12 months Medical'])])"
      ]
     },
     "execution_count": 109,
     "metadata": {},
     "output_type": "execute_result"
    }
   ],
   "source": [
    "ct"
   ]
  },
  {
   "cell_type": "code",
   "execution_count": 112,
   "metadata": {},
   "outputs": [
    {
     "data": {
      "text/plain": [
       "{'n_jobs': None,\n",
       " 'remainder': 'passthrough',\n",
       " 'sparse_threshold': 0,\n",
       " 'transformer_weights': None,\n",
       " 'transformers': [('num',\n",
       "   StandardScaler(),\n",
       "   ['Loan Amount',\n",
       "    'Funded Amount',\n",
       "    'Funded Amount Investor',\n",
       "    'Term',\n",
       "    'Interest Rate',\n",
       "    'Home Ownership',\n",
       "    'Debit to Income',\n",
       "    'Delinquency - two years',\n",
       "    'Inquires - six months',\n",
       "    'Open Account',\n",
       "    'Public Record',\n",
       "    'Revolving Balance',\n",
       "    'Revolving Utilities',\n",
       "    'Total Accounts',\n",
       "    'Total Received Interest',\n",
       "    'Total Received Late Fee',\n",
       "    'Recoveries',\n",
       "    'Collection Recovery Fee',\n",
       "    'Last week Pay',\n",
       "    'Total Collection Amount',\n",
       "    'Total Current Balance',\n",
       "    'Total Revolving Credit Limit',\n",
       "    'Grade',\n",
       "    'Sub Grade']),\n",
       "  ('cat',\n",
       "   OneHotEncoder(handle_unknown='ignore'),\n",
       "   ['Batch Enrolled',\n",
       "    'Employment Duration',\n",
       "    'Verification Status',\n",
       "    'Payment Plan',\n",
       "    'Loan Title',\n",
       "    'Initial List Status',\n",
       "    'Application Type',\n",
       "    'Term',\n",
       "    'Collection 12 months Medical'])],\n",
       " 'verbose': False,\n",
       " 'verbose_feature_names_out': True,\n",
       " 'num': StandardScaler(),\n",
       " 'cat': OneHotEncoder(handle_unknown='ignore'),\n",
       " 'num__copy': True,\n",
       " 'num__with_mean': True,\n",
       " 'num__with_std': True,\n",
       " 'cat__categories': 'auto',\n",
       " 'cat__drop': None,\n",
       " 'cat__dtype': numpy.float64,\n",
       " 'cat__handle_unknown': 'ignore',\n",
       " 'cat__sparse': True}"
      ]
     },
     "execution_count": 112,
     "metadata": {},
     "output_type": "execute_result"
    }
   ],
   "source": [
    "ct.get_params()"
   ]
  },
  {
   "cell_type": "code",
   "execution_count": 116,
   "metadata": {},
   "outputs": [
    {
     "name": "stdout",
     "output_type": "stream",
     "text": [
      "ID\n",
      "Loan Status\n"
     ]
    }
   ],
   "source": [
    "for x in train.columns:\n",
    "    if (x not in num_cols) & (x not in cat_cols):\n",
    "        print(x)"
   ]
  },
  {
   "cell_type": "code",
   "execution_count": null,
   "metadata": {},
   "outputs": [],
   "source": []
  }
 ],
 "metadata": {
  "kernelspec": {
   "display_name": "Python 3",
   "language": "python",
   "name": "python3"
  },
  "language_info": {
   "codemirror_mode": {
    "name": "ipython",
    "version": 3
   },
   "file_extension": ".py",
   "mimetype": "text/x-python",
   "name": "python",
   "nbconvert_exporter": "python",
   "pygments_lexer": "ipython3",
   "version": "3.8.3"
  }
 },
 "nbformat": 4,
 "nbformat_minor": 4
}
