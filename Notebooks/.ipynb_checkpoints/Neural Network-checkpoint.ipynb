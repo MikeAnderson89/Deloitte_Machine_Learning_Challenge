{
 "cells": [
  {
   "cell_type": "code",
   "execution_count": 29,
   "metadata": {},
   "outputs": [],
   "source": [
    "import sys\n",
    "import pandas as pd\n",
    "import numpy as np\n",
    "from sklearn.model_selection import train_test_split\n",
    "\n",
    "sys.path.append('../Scripts')\n",
    "from Data_Processing import DataProcessing\n",
    "\n",
    "import joblib\n",
    "\n",
    "from tensorflow import keras\n",
    "from keras.callbacks import ModelCheckpoint\n",
    "from keras.models import load_model\n",
    "from keras import backend as K\n",
    "from keras.callbacks import EarlyStopping\n",
    "from datetime import datetime\n",
    "from tensorflow import keras\n",
    "from sklearn.metrics import roc_auc_score, log_loss"
   ]
  },
  {
   "cell_type": "code",
   "execution_count": 15,
   "metadata": {},
   "outputs": [],
   "source": [
    "def evaluate(model, X_test, y_test):\n",
    "    predictions = model.predict(X_test)\n",
    "    errors = abs(predictions - y_test)\n",
    "    mape = 100 * np.mean(errors / y_test)\n",
    "    accuracy = 100 - mape\n",
    "    roc = roc_auc_score(y_test, predictions)\n",
    "    print('Model Performance')\n",
    "    #print('Average Error: {:0.4f} degrees'.format(np.mean(errors)))\n",
    "    #print('Accuracy = {:0.2f}%'.format(accuracy))\n",
    "    print(f'AUC = {roc}')\n",
    "    return accuracy"
   ]
  },
  {
   "cell_type": "code",
   "execution_count": 16,
   "metadata": {},
   "outputs": [],
   "source": [
    "trans_train, trans_test, labels = DataProcessing()"
   ]
  },
  {
   "cell_type": "code",
   "execution_count": 17,
   "metadata": {},
   "outputs": [],
   "source": [
    "X_valid = trans_train[:5000,]\n",
    "y_valid = labels[:5000,]\n",
    "\n",
    "X = trans_train[5000:,]\n",
    "y = labels[5000:,]"
   ]
  },
  {
   "cell_type": "markdown",
   "metadata": {},
   "source": [
    "# Neural Network"
   ]
  },
  {
   "cell_type": "code",
   "execution_count": 36,
   "metadata": {},
   "outputs": [],
   "source": [
    "mc = ModelCheckpoint(f'../Models/Neural_Network_v1.h5', monitor='val_loss', mode='min', verbose=1, save_best_only=True)\n",
    "\n",
    "early_stopping = EarlyStopping(\n",
    "    monitor='val_loss',\n",
    "    patience=15,\n",
    "    verbose=0,\n",
    "    mode=\"auto\",\n",
    "    baseline=None,\n",
    "    restore_best_weights=True)\n",
    "\n",
    "model = keras.Sequential([\n",
    "    keras.layers.InputLayer(191),\n",
    "    keras.layers.Dense(200, activation='selu', kernel_initializer='lecun_normal'),\n",
    "    keras.layers.BatchNormalization(),\n",
    "    keras.layers.Dense(400, activation='selu', kernel_initializer='lecun_normal'),\n",
    "    keras.layers.BatchNormalization(),\n",
    "    keras.layers.Dense(150, activation='selu', kernel_initializer='lecun_normal'),\n",
    "    keras.layers.BatchNormalization(),\n",
    "    keras.layers.Dense(350, activation='selu', kernel_initializer='lecun_normal'),\n",
    "    keras.layers.BatchNormalization(),\n",
    "    keras.layers.Dense(100, activation='selu', kernel_initializer='lecun_normal'),\n",
    "    keras.layers.BatchNormalization(),\n",
    "    keras.layers.Dense(50, activation='selu', kernel_initializer='lecun_normal'),\n",
    "    keras.layers.BatchNormalization(),\n",
    "    keras.layers.Dense(25, activation='selu', kernel_initializer='lecun_normal'),\n",
    "    keras.layers.BatchNormalization(),\n",
    "    keras.layers.Dense(15, activation='selu', kernel_initializer='lecun_normal'),\n",
    "    keras.layers.BatchNormalization(),\n",
    "    keras.layers.Dense(1, activation='hard_sigmoid')\n",
    "])"
   ]
  },
  {
   "cell_type": "code",
   "execution_count": 37,
   "metadata": {},
   "outputs": [],
   "source": [
    "optimizer = keras.optimizers.Adam(learning_rate=3e-4)\n",
    "\n",
    "model.compile(optimizer=optimizer,\n",
    "              loss='binary_crossentropy',\n",
    "              metrics=[keras.metrics.AUC()])"
   ]
  },
  {
   "cell_type": "code",
   "execution_count": 38,
   "metadata": {},
   "outputs": [
    {
     "name": "stdout",
     "output_type": "stream",
     "text": [
      "Epoch 1/5000\n",
      "1125/1125 [==============================] - 7s 4ms/step - loss: 0.4609 - auc_3: 0.4989 - val_loss: 0.3136 - val_auc_3: 0.5078\n",
      "\n",
      "Epoch 00001: val_loss improved from inf to 0.31363, saving model to ../Models\\Neural_Network_v1.h5\n",
      "Epoch 2/5000\n",
      "1125/1125 [==============================] - 4s 4ms/step - loss: 0.3111 - auc_3: 0.4940 - val_loss: 0.3083 - val_auc_3: 0.5015\n",
      "\n",
      "Epoch 00002: val_loss improved from 0.31363 to 0.30827, saving model to ../Models\\Neural_Network_v1.h5\n",
      "Epoch 3/5000\n",
      "1125/1125 [==============================] - 4s 4ms/step - loss: 0.3124 - auc_3: 0.5063 - val_loss: 0.3061 - val_auc_3: 0.5083\n",
      "\n",
      "Epoch 00003: val_loss improved from 0.30827 to 0.30607, saving model to ../Models\\Neural_Network_v1.h5\n",
      "Epoch 4/5000\n",
      "1125/1125 [==============================] - 4s 4ms/step - loss: 0.3088 - auc_3: 0.5062 - val_loss: 0.3041 - val_auc_3: 0.5304\n",
      "\n",
      "Epoch 00004: val_loss improved from 0.30607 to 0.30415, saving model to ../Models\\Neural_Network_v1.h5\n",
      "Epoch 5/5000\n",
      "1125/1125 [==============================] - 4s 4ms/step - loss: 0.3086 - auc_3: 0.5085 - val_loss: 0.3058 - val_auc_3: 0.5001\n",
      "\n",
      "Epoch 00005: val_loss did not improve from 0.30415\n",
      "Epoch 6/5000\n",
      "1125/1125 [==============================] - 4s 4ms/step - loss: 0.3089 - auc_3: 0.5052 - val_loss: 0.3048 - val_auc_3: 0.5206\n",
      "\n",
      "Epoch 00006: val_loss did not improve from 0.30415\n",
      "Epoch 7/5000\n",
      "1125/1125 [==============================] - 5s 4ms/step - loss: 0.3087 - auc_3: 0.4958 - val_loss: 0.3059 - val_auc_3: 0.5034\n",
      "\n",
      "Epoch 00007: val_loss did not improve from 0.30415\n",
      "Epoch 8/5000\n",
      "1125/1125 [==============================] - 5s 4ms/step - loss: 0.3086 - auc_3: 0.5023 - val_loss: 0.3052 - val_auc_3: 0.5100\n",
      "\n",
      "Epoch 00008: val_loss did not improve from 0.30415\n",
      "Epoch 9/5000\n",
      "1125/1125 [==============================] - 5s 4ms/step - loss: 0.3086 - auc_3: 0.4936 - val_loss: 0.3052 - val_auc_3: 0.4829\n",
      "\n",
      "Epoch 00009: val_loss did not improve from 0.30415\n",
      "Epoch 10/5000\n",
      "1125/1125 [==============================] - 5s 4ms/step - loss: 0.3083 - auc_3: 0.5041 - val_loss: 0.3072 - val_auc_3: 0.4807\n",
      "\n",
      "Epoch 00010: val_loss did not improve from 0.30415\n",
      "Epoch 11/5000\n",
      "1125/1125 [==============================] - 5s 4ms/step - loss: 0.3082 - auc_3: 0.5008 - val_loss: 0.3061 - val_auc_3: 0.4960\n",
      "\n",
      "Epoch 00011: val_loss did not improve from 0.30415\n",
      "Epoch 12/5000\n",
      "1125/1125 [==============================] - 5s 4ms/step - loss: 0.3083 - auc_3: 0.4944 - val_loss: 0.3069 - val_auc_3: 0.4918\n",
      "\n",
      "Epoch 00012: val_loss did not improve from 0.30415\n",
      "Epoch 13/5000\n",
      "1125/1125 [==============================] - 5s 4ms/step - loss: 0.3084 - auc_3: 0.4940 - val_loss: 0.3055 - val_auc_3: 0.5116\n",
      "\n",
      "Epoch 00013: val_loss did not improve from 0.30415\n",
      "Epoch 14/5000\n",
      "1125/1125 [==============================] - 5s 4ms/step - loss: 0.3080 - auc_3: 0.5008 - val_loss: 0.3046 - val_auc_3: 0.5144\n",
      "\n",
      "Epoch 00014: val_loss did not improve from 0.30415\n",
      "Epoch 15/5000\n",
      "1125/1125 [==============================] - 5s 4ms/step - loss: 0.3080 - auc_3: 0.5014 - val_loss: 0.3048 - val_auc_3: 0.5039\n",
      "\n",
      "Epoch 00015: val_loss did not improve from 0.30415\n",
      "Epoch 16/5000\n",
      "1125/1125 [==============================] - 5s 4ms/step - loss: 0.3081 - auc_3: 0.4970 - val_loss: 0.3052 - val_auc_3: 0.5010\n",
      "\n",
      "Epoch 00016: val_loss did not improve from 0.30415\n",
      "Epoch 17/5000\n",
      "1125/1125 [==============================] - 5s 4ms/step - loss: 0.3080 - auc_3: 0.5001 - val_loss: 0.3056 - val_auc_3: 0.5023\n",
      "\n",
      "Epoch 00017: val_loss did not improve from 0.30415\n",
      "Epoch 18/5000\n",
      "1125/1125 [==============================] - 5s 4ms/step - loss: 0.3080 - auc_3: 0.4964 - val_loss: 0.3059 - val_auc_3: 0.4919\n",
      "\n",
      "Epoch 00018: val_loss did not improve from 0.30415\n",
      "Epoch 19/5000\n",
      "1125/1125 [==============================] - 5s 4ms/step - loss: 0.3081 - auc_3: 0.4997 - val_loss: 0.3056 - val_auc_3: 0.5041\n",
      "\n",
      "Epoch 00019: val_loss did not improve from 0.30415\n"
     ]
    }
   ],
   "source": [
    "history = model.fit(\n",
    "    X,\n",
    "    y,\n",
    "    batch_size=50,\n",
    "    epochs=5000,\n",
    "    validation_split=0.1,\n",
    "    callbacks=[mc, early_stopping],\n",
    "    shuffle=True,\n",
    "    use_multiprocessing=True\n",
    ")"
   ]
  },
  {
   "cell_type": "code",
   "execution_count": 39,
   "metadata": {},
   "outputs": [
    {
     "name": "stdout",
     "output_type": "stream",
     "text": [
      "Model Performance\n",
      "AUC = 0.5046707412899354\n"
     ]
    },
    {
     "name": "stderr",
     "output_type": "stream",
     "text": [
      "<ipython-input-15-3ced6f520b3b>:4: RuntimeWarning: divide by zero encountered in true_divide\n",
      "  mape = 100 * np.mean(errors / y_test)\n"
     ]
    },
    {
     "data": {
      "text/plain": [
       "-inf"
      ]
     },
     "execution_count": 39,
     "metadata": {},
     "output_type": "execute_result"
    }
   ],
   "source": [
    "nn_model = load_model('../Models/Neural_Network_v1.h5')\n",
    "evaluate(nn_model, X_valid, y_valid)"
   ]
  },
  {
   "cell_type": "code",
   "execution_count": 40,
   "metadata": {},
   "outputs": [
    {
     "data": {
      "text/plain": [
       "0.31983764108270407"
      ]
     },
     "execution_count": 40,
     "metadata": {},
     "output_type": "execute_result"
    }
   ],
   "source": [
    "y_pred = nn_model.predict(X_valid)\n",
    "log_loss(y_valid, y_pred)"
   ]
  },
  {
   "cell_type": "code",
   "execution_count": null,
   "metadata": {},
   "outputs": [],
   "source": []
  }
 ],
 "metadata": {
  "kernelspec": {
   "display_name": "Python 3",
   "language": "python",
   "name": "python3"
  },
  "language_info": {
   "codemirror_mode": {
    "name": "ipython",
    "version": 3
   },
   "file_extension": ".py",
   "mimetype": "text/x-python",
   "name": "python",
   "nbconvert_exporter": "python",
   "pygments_lexer": "ipython3",
   "version": "3.8.3"
  }
 },
 "nbformat": 4,
 "nbformat_minor": 4
}
